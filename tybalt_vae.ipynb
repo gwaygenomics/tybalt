{
 "cells": [
  {
   "cell_type": "markdown",
   "metadata": {},
   "source": [
    "# Variational Autoencoder for pan-cancer gene expression\n",
    "\n",
    "**Gregory Way 2017**\n",
    "\n",
    "This script trains and outputs results for a [variational autoencoder (VAE)](https://arxiv.org/abs/1312.6114)\n",
    "applied to gene expression data across 33 different cancer-types from The Cancer Genome Atlas (TCGA).\n",
    "\n",
    "A VAE aproximates the data generating function for the cancer data and learns the lower dimensional manifold a tumor occupies in gene expression space. By compressing the gene expression space into lower dimensional space, the VAE would, ideally, learn biological principles, such as cancer hallmark pathway activations, that help explain how tumors are similar and different. The VAE is also a generative model with a latent space that can be interpolated to observe transitions between cancer states.\n",
    "\n",
    "The particular model trained in this notebook consists of gene expression input (5000 most variably expressed genes by median absolute deviation) compressed down into two length 100 vectors (mean and variance encoded spaces) which are made deterministic through the reparameterization trick of sampling an epsilon vector from the uniform distribution. The encoded layer is then decoded back to original 5000 dimensions through a single reconstruction layer. I included a layer of batch normalization in the encoding step to prevent dead nodes. The encoding scheme also uses relu activation while the decoder uses a sigmoid activation to enforce positive activations. All weights are glorot uniform initialized. \n",
    "\n",
    "Another trick used here to encourage manifold learning is _warm start_ as discussed in [Sonderby et al. 2016](https://arxiv.org/abs/1602.02282). With warm starts, we add a parameter _beta_, which controls the contribution of the KL divergence loss in the total VAE loss (reconstruction + (beta * KL)). In this setting, the model begins training deterministically as a vanilla autoencoder (_beta_ = 0) and slowly ramps up after each epoch linearly until _beta_ = 1. After a parameter sweep, we observed that kappa has little influence in training, therefore, we set  _kappa_ = 1, which is a full VAE.\n",
    "\n",
    "Much of this script is inspired by the [keras variational_autoencoder.py example](https://github.com/fchollet/keras/blob/master/examples/variational_autoencoder.py)"
   ]
  },
  {
   "cell_type": "code",
   "execution_count": 1,
   "metadata": {
    "collapsed": false,
    "deletable": true,
    "editable": true
   },
   "outputs": [
    {
     "name": "stderr",
     "output_type": "stream",
     "text": [
      "Using TensorFlow backend.\n"
     ]
    }
   ],
   "source": [
    "import os\n",
    "import numpy as np\n",
    "import pandas as pd\n",
    "import matplotlib.pyplot as plt\n",
    "\n",
    "import tensorflow as tf\n",
    "from keras.layers import Input, Dense, Lambda, Layer, Activation\n",
    "from keras.layers.normalization import BatchNormalization\n",
    "from keras.models import Model\n",
    "from keras import backend as K\n",
    "from keras import metrics, optimizers\n",
    "from keras.callbacks import Callback\n",
    "import keras\n",
    "\n",
    "import pydot\n",
    "import graphviz\n",
    "from keras.utils import plot_model\n",
    "from IPython.display import SVG\n",
    "from keras.utils.vis_utils import model_to_dot"
   ]
  },
  {
   "cell_type": "code",
   "execution_count": 2,
   "metadata": {
    "collapsed": false,
    "deletable": true,
    "editable": true
   },
   "outputs": [
    {
     "name": "stdout",
     "output_type": "stream",
     "text": [
      "2.0.6\n"
     ]
    },
    {
     "data": {
      "text/plain": [
       "'1.0.1'"
      ]
     },
     "execution_count": 2,
     "metadata": {},
     "output_type": "execute_result"
    }
   ],
   "source": [
    "print(keras.__version__)\n",
    "tf.__version__"
   ]
  },
  {
   "cell_type": "markdown",
   "metadata": {},
   "source": [
    "## Load Functions and Classes\n",
    "\n",
    "This will facilitate connections between layers and also custom hyperparameters"
   ]
  },
  {
   "cell_type": "code",
   "execution_count": 3,
   "metadata": {
    "collapsed": false
   },
   "outputs": [],
   "source": [
    "# Function for reparameterization trick to make model differentiable\n",
    "def sampling(args):\n",
    "    \n",
    "    import tensorflow as tf\n",
    "    # Function with args required for Keras Lambda function\n",
    "    z_mean, z_log_var = args\n",
    "\n",
    "    # Draw epsilon of the same shape from a standard normal distribution\n",
    "    epsilon = K.random_normal(shape=tf.shape(z_mean), mean=0.,\n",
    "                              stddev=epsilon_std)\n",
    "    \n",
    "    # The latent vector is non-deterministic and differentiable\n",
    "    # in respect to z_mean and z_log_var\n",
    "    z = z_mean + K.exp(z_log_var / 2) * epsilon\n",
    "    return z\n",
    "\n",
    "\n",
    "class CustomVariationalLayer(Layer):\n",
    "    \"\"\"\n",
    "    Define a custom layer that learns and performs the training\n",
    "\n",
    "    \"\"\"\n",
    "    def __init__(self, **kwargs):\n",
    "        # https://keras.io/layers/writing-your-own-keras-layers/\n",
    "        self.is_placeholder = True\n",
    "        super(CustomVariationalLayer, self).__init__(**kwargs)\n",
    "\n",
    "    def vae_loss(self, x_input, x_decoded):\n",
    "        reconstruction_loss = original_dim * metrics.binary_crossentropy(x_input, x_decoded)\n",
    "        kl_loss = - 0.5 * K.sum(1 + z_log_var_encoded - K.square(z_mean_encoded) - \n",
    "                                K.exp(z_log_var_encoded), axis=-1)\n",
    "        return K.mean(reconstruction_loss + (K.get_value(beta) * kl_loss))\n",
    "\n",
    "    def call(self, inputs):\n",
    "        x = inputs[0]\n",
    "        x_decoded = inputs[1]\n",
    "        loss = self.vae_loss(x, x_decoded)\n",
    "        self.add_loss(loss, inputs=inputs)\n",
    "        # We won't actually use the output.\n",
    "        return x"
   ]
  },
  {
   "cell_type": "markdown",
   "metadata": {},
   "source": [
    "### Implementing Warm-up as described in Sonderby et al. LVAE\n",
    "\n",
    "This is modified code from https://github.com/fchollet/keras/issues/2595"
   ]
  },
  {
   "cell_type": "code",
   "execution_count": 4,
   "metadata": {
    "collapsed": false
   },
   "outputs": [],
   "source": [
    "class WarmUpCallback(Callback):\n",
    "    def __init__(self, beta, kappa):\n",
    "        self.beta = beta\n",
    "        self.kappa = kappa\n",
    "    # Behavior on each epoch\n",
    "    def on_epoch_end(self, epoch, logs={}):\n",
    "        if K.get_value(self.beta) <= 1:\n",
    "            K.set_value(self.beta, K.get_value(self.beta) + self.kappa)"
   ]
  },
  {
   "cell_type": "code",
   "execution_count": 5,
   "metadata": {
    "collapsed": true,
    "deletable": true,
    "editable": true
   },
   "outputs": [],
   "source": [
    "%matplotlib inline\n",
    "plt.style.use('seaborn-notebook')"
   ]
  },
  {
   "cell_type": "code",
   "execution_count": 6,
   "metadata": {
    "collapsed": true,
    "deletable": true,
    "editable": true
   },
   "outputs": [],
   "source": [
    "np.random.seed(123)"
   ]
  },
  {
   "cell_type": "markdown",
   "metadata": {},
   "source": [
    "## Load Gene Expression Data"
   ]
  },
  {
   "cell_type": "code",
   "execution_count": 7,
   "metadata": {
    "collapsed": false,
    "deletable": true,
    "editable": true
   },
   "outputs": [
    {
     "name": "stdout",
     "output_type": "stream",
     "text": [
      "(10459, 5000)\n"
     ]
    },
    {
     "data": {
      "text/html": [
       "<div>\n",
       "<style>\n",
       "    .dataframe thead tr:only-child th {\n",
       "        text-align: right;\n",
       "    }\n",
       "\n",
       "    .dataframe thead th {\n",
       "        text-align: left;\n",
       "    }\n",
       "\n",
       "    .dataframe tbody tr th {\n",
       "        vertical-align: top;\n",
       "    }\n",
       "</style>\n",
       "<table border=\"1\" class=\"dataframe\">\n",
       "  <thead>\n",
       "    <tr style=\"text-align: right;\">\n",
       "      <th></th>\n",
       "      <th>RPS4Y1</th>\n",
       "      <th>XIST</th>\n",
       "      <th>KRT5</th>\n",
       "      <th>AGR2</th>\n",
       "      <th>CEACAM5</th>\n",
       "      <th>KRT6A</th>\n",
       "      <th>KRT14</th>\n",
       "      <th>CEACAM6</th>\n",
       "      <th>DDX3Y</th>\n",
       "      <th>KDM5D</th>\n",
       "      <th>...</th>\n",
       "      <th>FAM129A</th>\n",
       "      <th>C8orf48</th>\n",
       "      <th>CDK5R1</th>\n",
       "      <th>FAM81A</th>\n",
       "      <th>C13orf18</th>\n",
       "      <th>GDPD3</th>\n",
       "      <th>SMAGP</th>\n",
       "      <th>C2orf85</th>\n",
       "      <th>POU5F1B</th>\n",
       "      <th>CHST2</th>\n",
       "    </tr>\n",
       "  </thead>\n",
       "  <tbody>\n",
       "    <tr>\n",
       "      <th>TCGA-02-0047-01</th>\n",
       "      <td>0.678296</td>\n",
       "      <td>0.289910</td>\n",
       "      <td>0.034230</td>\n",
       "      <td>0.0</td>\n",
       "      <td>0.0</td>\n",
       "      <td>0.084731</td>\n",
       "      <td>0.031863</td>\n",
       "      <td>0.037709</td>\n",
       "      <td>0.746797</td>\n",
       "      <td>0.687833</td>\n",
       "      <td>...</td>\n",
       "      <td>0.440610</td>\n",
       "      <td>0.428782</td>\n",
       "      <td>0.732819</td>\n",
       "      <td>0.634340</td>\n",
       "      <td>0.580662</td>\n",
       "      <td>0.294313</td>\n",
       "      <td>0.458134</td>\n",
       "      <td>0.478219</td>\n",
       "      <td>0.168263</td>\n",
       "      <td>0.638497</td>\n",
       "    </tr>\n",
       "    <tr>\n",
       "      <th>TCGA-02-0055-01</th>\n",
       "      <td>0.200633</td>\n",
       "      <td>0.654917</td>\n",
       "      <td>0.181993</td>\n",
       "      <td>0.0</td>\n",
       "      <td>0.0</td>\n",
       "      <td>0.100606</td>\n",
       "      <td>0.050011</td>\n",
       "      <td>0.092586</td>\n",
       "      <td>0.103725</td>\n",
       "      <td>0.140642</td>\n",
       "      <td>...</td>\n",
       "      <td>0.620658</td>\n",
       "      <td>0.363207</td>\n",
       "      <td>0.592269</td>\n",
       "      <td>0.602755</td>\n",
       "      <td>0.610192</td>\n",
       "      <td>0.374569</td>\n",
       "      <td>0.722420</td>\n",
       "      <td>0.271356</td>\n",
       "      <td>0.160465</td>\n",
       "      <td>0.602560</td>\n",
       "    </tr>\n",
       "  </tbody>\n",
       "</table>\n",
       "<p>2 rows × 5000 columns</p>\n",
       "</div>"
      ],
      "text/plain": [
       "                   RPS4Y1      XIST      KRT5  AGR2  CEACAM5     KRT6A  \\\n",
       "TCGA-02-0047-01  0.678296  0.289910  0.034230   0.0      0.0  0.084731   \n",
       "TCGA-02-0055-01  0.200633  0.654917  0.181993   0.0      0.0  0.100606   \n",
       "\n",
       "                    KRT14   CEACAM6     DDX3Y     KDM5D    ...      FAM129A  \\\n",
       "TCGA-02-0047-01  0.031863  0.037709  0.746797  0.687833    ...     0.440610   \n",
       "TCGA-02-0055-01  0.050011  0.092586  0.103725  0.140642    ...     0.620658   \n",
       "\n",
       "                  C8orf48    CDK5R1    FAM81A  C13orf18     GDPD3     SMAGP  \\\n",
       "TCGA-02-0047-01  0.428782  0.732819  0.634340  0.580662  0.294313  0.458134   \n",
       "TCGA-02-0055-01  0.363207  0.592269  0.602755  0.610192  0.374569  0.722420   \n",
       "\n",
       "                  C2orf85   POU5F1B     CHST2  \n",
       "TCGA-02-0047-01  0.478219  0.168263  0.638497  \n",
       "TCGA-02-0055-01  0.271356  0.160465  0.602560  \n",
       "\n",
       "[2 rows x 5000 columns]"
      ]
     },
     "execution_count": 7,
     "metadata": {},
     "output_type": "execute_result"
    }
   ],
   "source": [
    "rnaseq_file = os.path.join('data', 'pancan_scaled_zeroone_rnaseq.tsv')\n",
    "rnaseq_df = pd.read_table(rnaseq_file, index_col=0)\n",
    "print(rnaseq_df.shape)\n",
    "rnaseq_df.head(2)"
   ]
  },
  {
   "cell_type": "code",
   "execution_count": 8,
   "metadata": {
    "collapsed": true,
    "deletable": true,
    "editable": true
   },
   "outputs": [],
   "source": [
    "# Split 10% test set randomly\n",
    "test_set_percent = 0.1\n",
    "rnaseq_test_df = rnaseq_df.sample(frac=test_set_percent)\n",
    "rnaseq_train_df = rnaseq_df.drop(rnaseq_test_df.index)"
   ]
  },
  {
   "cell_type": "markdown",
   "metadata": {},
   "source": [
    "## Initialize variables and hyperparameters"
   ]
  },
  {
   "cell_type": "code",
   "execution_count": 9,
   "metadata": {
    "collapsed": true,
    "deletable": true,
    "editable": true
   },
   "outputs": [],
   "source": [
    "# Set hyper parameters\n",
    "original_dim = 5000\n",
    "latent_dim = 100\n",
    "\n",
    "batch_size = 50\n",
    "epochs = 50\n",
    "learning_rate = 0.0005\n",
    "\n",
    "epsilon_std = 1.0\n",
    "beta = K.variable(0)\n",
    "kappa = 1"
   ]
  },
  {
   "cell_type": "markdown",
   "metadata": {},
   "source": [
    "## Encoder"
   ]
  },
  {
   "cell_type": "code",
   "execution_count": 10,
   "metadata": {
    "collapsed": false,
    "deletable": true,
    "editable": true
   },
   "outputs": [],
   "source": [
    "# Input place holder for RNAseq data with specific input size\n",
    "rnaseq_input = Input(shape=(original_dim, ))\n",
    "\n",
    "# Input layer is compressed into a mean and log variance vector of size `latent_dim`\n",
    "# Each layer is initialized with glorot uniform weights and each step (dense connections, batch norm,\n",
    "# and relu activation) are funneled separately\n",
    "# Each vector of length `latent_dim` are connected to the rnaseq input tensor\n",
    "z_mean_dense_linear = Dense(latent_dim, kernel_initializer='glorot_uniform')(rnaseq_input)\n",
    "z_mean_dense_batchnorm = BatchNormalization()(z_mean_dense_linear)\n",
    "z_mean_encoded = Activation('relu')(z_mean_dense_batchnorm)\n",
    "\n",
    "z_log_var_dense_linear = Dense(latent_dim, kernel_initializer='glorot_uniform')(rnaseq_input)\n",
    "z_log_var_dense_batchnorm = BatchNormalization()(z_log_var_dense_linear)\n",
    "z_log_var_encoded = Activation('relu')(z_log_var_dense_batchnorm)\n",
    "\n",
    "# return the encoded and randomly sampled z vector\n",
    "# Takes two keras layers as input to the custom sampling function layer with a `latent_dim` output\n",
    "z = Lambda(sampling, output_shape=(latent_dim, ))([z_mean_encoded, z_log_var_encoded])"
   ]
  },
  {
   "cell_type": "markdown",
   "metadata": {},
   "source": [
    "## Decoder"
   ]
  },
  {
   "cell_type": "code",
   "execution_count": 11,
   "metadata": {
    "collapsed": false,
    "deletable": true,
    "editable": true
   },
   "outputs": [],
   "source": [
    "# The decoding layer is much simpler with a single layer glorot uniform initialized and sigmoid activation\n",
    "decoder_to_reconstruct = Dense(original_dim, kernel_initializer='glorot_uniform', activation='sigmoid')\n",
    "rnaseq_reconstruct = decoder_to_reconstruct(z)"
   ]
  },
  {
   "cell_type": "markdown",
   "metadata": {},
   "source": [
    "## Connect the encoder and decoder to make the VAE\n",
    "\n",
    "The `CustomVariationalLayer()` includes the VAE loss function (reconstruction + (beta * KL)), which is what will drive our model to learn an interpretable representation of gene expression space.\n",
    "\n",
    "The VAE is compiled with an Adam optimizer and built-in custom loss function. The `loss_weights` parameter ensures beta is updated at each epoch end callback"
   ]
  },
  {
   "cell_type": "code",
   "execution_count": 12,
   "metadata": {
    "collapsed": false,
    "deletable": true,
    "editable": true
   },
   "outputs": [
    {
     "name": "stdout",
     "output_type": "stream",
     "text": [
      "____________________________________________________________________________________________________\n",
      "Layer (type)                     Output Shape          Param #     Connected to                     \n",
      "====================================================================================================\n",
      "input_1 (InputLayer)             (None, 5000)          0                                            \n",
      "____________________________________________________________________________________________________\n",
      "dense_1 (Dense)                  (None, 100)           500100      input_1[0][0]                    \n",
      "____________________________________________________________________________________________________\n",
      "dense_2 (Dense)                  (None, 100)           500100      input_1[0][0]                    \n",
      "____________________________________________________________________________________________________\n",
      "batch_normalization_1 (BatchNorm (None, 100)           400         dense_1[0][0]                    \n",
      "____________________________________________________________________________________________________\n",
      "batch_normalization_2 (BatchNorm (None, 100)           400         dense_2[0][0]                    \n",
      "____________________________________________________________________________________________________\n",
      "activation_1 (Activation)        (None, 100)           0           batch_normalization_1[0][0]      \n",
      "____________________________________________________________________________________________________\n",
      "activation_2 (Activation)        (None, 100)           0           batch_normalization_2[0][0]      \n",
      "____________________________________________________________________________________________________\n",
      "lambda_1 (Lambda)                (None, 100)           0           activation_1[0][0]               \n",
      "                                                                   activation_2[0][0]               \n",
      "____________________________________________________________________________________________________\n",
      "dense_3 (Dense)                  (None, 5000)          505000      lambda_1[0][0]                   \n",
      "____________________________________________________________________________________________________\n",
      "custom_variational_layer_1 (Cust [(None, 5000), (None, 0           input_1[0][0]                    \n",
      "                                                                   dense_3[0][0]                    \n",
      "====================================================================================================\n",
      "Total params: 1,506,000\n",
      "Trainable params: 1,505,600\n",
      "Non-trainable params: 400\n",
      "____________________________________________________________________________________________________\n"
     ]
    },
    {
     "name": "stderr",
     "output_type": "stream",
     "text": [
      "/home/gway/anaconda3/lib/python3.5/site-packages/ipykernel/__main__.py:4: UserWarning: Output \"custom_variational_layer_1\" missing from loss dictionary. We assume this was done on purpose, and we will not be expecting any data to be passed to \"custom_variational_layer_1\" during training.\n"
     ]
    }
   ],
   "source": [
    "adam = optimizers.Adam(lr=learning_rate)\n",
    "vae_layer = CustomVariationalLayer()([rnaseq_input, rnaseq_reconstruct])\n",
    "vae = Model(rnaseq_input, vae_layer)\n",
    "vae.compile(optimizer=adam, loss=None, loss_weights=[beta])\n",
    "\n",
    "vae.summary()"
   ]
  },
  {
   "cell_type": "code",
   "execution_count": 13,
   "metadata": {
    "collapsed": false
   },
   "outputs": [
    {
     "data": {
      "image/svg+xml": [
       "<svg height=\"483pt\" viewBox=\"0.00 0.00 670.50 483.00\" width=\"671pt\" xmlns=\"http://www.w3.org/2000/svg\" xmlns:xlink=\"http://www.w3.org/1999/xlink\">\n",
       "<g class=\"graph\" id=\"graph0\" transform=\"scale(1 1) rotate(0) translate(4 479)\">\n",
       "<title>G</title>\n",
       "<polygon fill=\"white\" points=\"-4,4 -4,-479 666.5,-479 666.5,4 -4,4\" stroke=\"none\"/>\n",
       "<!-- 140466772056944 -->\n",
       "<g class=\"node\" id=\"node1\"><title>140466772056944</title>\n",
       "<polygon fill=\"none\" points=\"345.5,-438.5 345.5,-474.5 470.5,-474.5 470.5,-438.5 345.5,-438.5\" stroke=\"black\"/>\n",
       "<text font-family=\"Times,serif\" font-size=\"14.00\" text-anchor=\"middle\" x=\"408\" y=\"-452.8\">input_1: InputLayer</text>\n",
       "</g>\n",
       "<!-- 140466772056888 -->\n",
       "<g class=\"node\" id=\"node2\"><title>140466772056888</title>\n",
       "<polygon fill=\"none\" points=\"158,-365.5 158,-401.5 260,-401.5 260,-365.5 158,-365.5\" stroke=\"black\"/>\n",
       "<text font-family=\"Times,serif\" font-size=\"14.00\" text-anchor=\"middle\" x=\"209\" y=\"-379.8\">dense_1: Dense</text>\n",
       "</g>\n",
       "<!-- 140466772056944&#45;&gt;140466772056888 -->\n",
       "<g class=\"edge\" id=\"edge1\"><title>140466772056944-&gt;140466772056888</title>\n",
       "<path d=\"M360.335,-438.494C332.113,-428.425 296.172,-415.602 266.399,-404.979\" fill=\"none\" stroke=\"black\"/>\n",
       "<polygon fill=\"black\" points=\"267.561,-401.678 256.966,-401.614 265.209,-408.27 267.561,-401.678\" stroke=\"black\"/>\n",
       "</g>\n",
       "<!-- 140466772237784 -->\n",
       "<g class=\"node\" id=\"node3\"><title>140466772237784</title>\n",
       "<polygon fill=\"none\" points=\"357,-365.5 357,-401.5 459,-401.5 459,-365.5 357,-365.5\" stroke=\"black\"/>\n",
       "<text font-family=\"Times,serif\" font-size=\"14.00\" text-anchor=\"middle\" x=\"408\" y=\"-379.8\">dense_2: Dense</text>\n",
       "</g>\n",
       "<!-- 140466772056944&#45;&gt;140466772237784 -->\n",
       "<g class=\"edge\" id=\"edge2\"><title>140466772056944-&gt;140466772237784</title>\n",
       "<path d=\"M408,-438.313C408,-430.289 408,-420.547 408,-411.569\" fill=\"none\" stroke=\"black\"/>\n",
       "<polygon fill=\"black\" points=\"411.5,-411.529 408,-401.529 404.5,-411.529 411.5,-411.529\" stroke=\"black\"/>\n",
       "</g>\n",
       "<!-- 140466470024472 -->\n",
       "<g class=\"node\" id=\"node10\"><title>140466470024472</title>\n",
       "<polygon fill=\"none\" points=\"351.5,-0.5 351.5,-36.5 662.5,-36.5 662.5,-0.5 351.5,-0.5\" stroke=\"black\"/>\n",
       "<text font-family=\"Times,serif\" font-size=\"14.00\" text-anchor=\"middle\" x=\"507\" y=\"-14.8\">custom_variational_layer_1: CustomVariationalLayer</text>\n",
       "</g>\n",
       "<!-- 140466772056944&#45;&gt;140466470024472 -->\n",
       "<g class=\"edge\" id=\"edge10\"><title>140466772056944-&gt;140466470024472</title>\n",
       "<path d=\"M450.757,-438.449C497.549,-416.635 566,-374.037 566,-311.5 566,-311.5 566,-311.5 566,-163.5 566,-119.566 542.193,-73.3423 524.824,-45.4659\" fill=\"none\" stroke=\"black\"/>\n",
       "<polygon fill=\"black\" points=\"527.573,-43.2688 519.225,-36.7453 521.683,-47.0511 527.573,-43.2688\" stroke=\"black\"/>\n",
       "</g>\n",
       "<!-- 140466772056048 -->\n",
       "<g class=\"node\" id=\"node4\"><title>140466772056048</title>\n",
       "<polygon fill=\"none\" points=\"0,-292.5 0,-328.5 260,-328.5 260,-292.5 0,-292.5\" stroke=\"black\"/>\n",
       "<text font-family=\"Times,serif\" font-size=\"14.00\" text-anchor=\"middle\" x=\"130\" y=\"-306.8\">batch_normalization_1: BatchNormalization</text>\n",
       "</g>\n",
       "<!-- 140466772056888&#45;&gt;140466772056048 -->\n",
       "<g class=\"edge\" id=\"edge3\"><title>140466772056888-&gt;140466772056048</title>\n",
       "<path d=\"M189.876,-365.313C179.881,-356.33 167.49,-345.193 156.577,-335.386\" fill=\"none\" stroke=\"black\"/>\n",
       "<polygon fill=\"black\" points=\"158.725,-332.61 148.948,-328.529 154.046,-337.816 158.725,-332.61\" stroke=\"black\"/>\n",
       "</g>\n",
       "<!-- 140466772234760 -->\n",
       "<g class=\"node\" id=\"node5\"><title>140466772234760</title>\n",
       "<polygon fill=\"none\" points=\"278,-292.5 278,-328.5 538,-328.5 538,-292.5 278,-292.5\" stroke=\"black\"/>\n",
       "<text font-family=\"Times,serif\" font-size=\"14.00\" text-anchor=\"middle\" x=\"408\" y=\"-306.8\">batch_normalization_2: BatchNormalization</text>\n",
       "</g>\n",
       "<!-- 140466772237784&#45;&gt;140466772234760 -->\n",
       "<g class=\"edge\" id=\"edge4\"><title>140466772237784-&gt;140466772234760</title>\n",
       "<path d=\"M408,-365.313C408,-357.289 408,-347.547 408,-338.569\" fill=\"none\" stroke=\"black\"/>\n",
       "<polygon fill=\"black\" points=\"411.5,-338.529 408,-328.529 404.5,-338.529 411.5,-338.529\" stroke=\"black\"/>\n",
       "</g>\n",
       "<!-- 140466772056216 -->\n",
       "<g class=\"node\" id=\"node6\"><title>140466772056216</title>\n",
       "<polygon fill=\"none\" points=\"112,-219.5 112,-255.5 260,-255.5 260,-219.5 112,-219.5\" stroke=\"black\"/>\n",
       "<text font-family=\"Times,serif\" font-size=\"14.00\" text-anchor=\"middle\" x=\"186\" y=\"-233.8\">activation_1: Activation</text>\n",
       "</g>\n",
       "<!-- 140466772056048&#45;&gt;140466772056216 -->\n",
       "<g class=\"edge\" id=\"edge5\"><title>140466772056048-&gt;140466772056216</title>\n",
       "<path d=\"M143.556,-292.313C150.366,-283.679 158.745,-273.055 166.255,-263.534\" fill=\"none\" stroke=\"black\"/>\n",
       "<polygon fill=\"black\" points=\"169.124,-265.548 172.569,-255.529 163.628,-261.213 169.124,-265.548\" stroke=\"black\"/>\n",
       "</g>\n",
       "<!-- 140466458637928 -->\n",
       "<g class=\"node\" id=\"node7\"><title>140466458637928</title>\n",
       "<polygon fill=\"none\" points=\"334,-219.5 334,-255.5 482,-255.5 482,-219.5 334,-219.5\" stroke=\"black\"/>\n",
       "<text font-family=\"Times,serif\" font-size=\"14.00\" text-anchor=\"middle\" x=\"408\" y=\"-233.8\">activation_2: Activation</text>\n",
       "</g>\n",
       "<!-- 140466772234760&#45;&gt;140466458637928 -->\n",
       "<g class=\"edge\" id=\"edge6\"><title>140466772234760-&gt;140466458637928</title>\n",
       "<path d=\"M408,-292.313C408,-284.289 408,-274.547 408,-265.569\" fill=\"none\" stroke=\"black\"/>\n",
       "<polygon fill=\"black\" points=\"411.5,-265.529 408,-255.529 404.5,-265.529 411.5,-265.529\" stroke=\"black\"/>\n",
       "</g>\n",
       "<!-- 140466643514480 -->\n",
       "<g class=\"node\" id=\"node8\"><title>140466643514480</title>\n",
       "<polygon fill=\"none\" points=\"346.5,-146.5 346.5,-182.5 469.5,-182.5 469.5,-146.5 346.5,-146.5\" stroke=\"black\"/>\n",
       "<text font-family=\"Times,serif\" font-size=\"14.00\" text-anchor=\"middle\" x=\"408\" y=\"-160.8\">lambda_1: Lambda</text>\n",
       "</g>\n",
       "<!-- 140466772056216&#45;&gt;140466643514480 -->\n",
       "<g class=\"edge\" id=\"edge7\"><title>140466772056216-&gt;140466643514480</title>\n",
       "<path d=\"M239.175,-219.494C270.931,-209.338 311.447,-196.379 344.828,-185.704\" fill=\"none\" stroke=\"black\"/>\n",
       "<polygon fill=\"black\" points=\"346.031,-188.994 354.49,-182.614 343.899,-182.326 346.031,-188.994\" stroke=\"black\"/>\n",
       "</g>\n",
       "<!-- 140466458637928&#45;&gt;140466643514480 -->\n",
       "<g class=\"edge\" id=\"edge8\"><title>140466458637928-&gt;140466643514480</title>\n",
       "<path d=\"M408,-219.313C408,-211.289 408,-201.547 408,-192.569\" fill=\"none\" stroke=\"black\"/>\n",
       "<polygon fill=\"black\" points=\"411.5,-192.529 408,-182.529 404.5,-192.529 411.5,-192.529\" stroke=\"black\"/>\n",
       "</g>\n",
       "<!-- 140466772263544 -->\n",
       "<g class=\"node\" id=\"node9\"><title>140466772263544</title>\n",
       "<polygon fill=\"none\" points=\"397,-73.5 397,-109.5 499,-109.5 499,-73.5 397,-73.5\" stroke=\"black\"/>\n",
       "<text font-family=\"Times,serif\" font-size=\"14.00\" text-anchor=\"middle\" x=\"448\" y=\"-87.8\">dense_3: Dense</text>\n",
       "</g>\n",
       "<!-- 140466643514480&#45;&gt;140466772263544 -->\n",
       "<g class=\"edge\" id=\"edge9\"><title>140466643514480-&gt;140466772263544</title>\n",
       "<path d=\"M417.683,-146.313C422.4,-137.941 428.171,-127.697 433.407,-118.403\" fill=\"none\" stroke=\"black\"/>\n",
       "<polygon fill=\"black\" points=\"436.547,-119.959 438.406,-109.529 430.448,-116.523 436.547,-119.959\" stroke=\"black\"/>\n",
       "</g>\n",
       "<!-- 140466772263544&#45;&gt;140466470024472 -->\n",
       "<g class=\"edge\" id=\"edge11\"><title>140466772263544-&gt;140466470024472</title>\n",
       "<path d=\"M462.282,-73.3129C469.529,-64.5918 478.464,-53.8402 486.436,-44.2459\" fill=\"none\" stroke=\"black\"/>\n",
       "<polygon fill=\"black\" points=\"489.15,-46.4569 492.849,-36.5288 483.766,-41.983 489.15,-46.4569\" stroke=\"black\"/>\n",
       "</g>\n",
       "</g>\n",
       "</svg>"
      ],
      "text/plain": [
       "<IPython.core.display.SVG object>"
      ]
     },
     "execution_count": 13,
     "metadata": {},
     "output_type": "execute_result"
    }
   ],
   "source": [
    "# Visualize the connections of the custom VAE model\n",
    "output_model_file = os.path.join('figures', 'onehidden_vae_architecture.png')\n",
    "plot_model(vae, to_file=output_model_file)\n",
    "\n",
    "SVG(model_to_dot(vae).create(prog='dot', format='svg'))"
   ]
  },
  {
   "cell_type": "markdown",
   "metadata": {},
   "source": [
    "## Train the model\n",
    "\n",
    "The training data is shuffled after every epoch and 10% of the data is heldout for calculating validation loss."
   ]
  },
  {
   "cell_type": "code",
   "execution_count": 14,
   "metadata": {
    "collapsed": false,
    "deletable": true,
    "editable": true
   },
   "outputs": [
    {
     "name": "stdout",
     "output_type": "stream",
     "text": [
      "Train on 9413 samples, validate on 1046 samples\n",
      "Epoch 1/50\n",
      "9413/9413 [==============================] - 7s - loss: 3001.8011 - val_loss: 2886.8627\n",
      "Epoch 2/50\n",
      "9413/9413 [==============================] - 7s - loss: 2825.4801 - val_loss: 2812.8349\n",
      "Epoch 3/50\n",
      "9413/9413 [==============================] - 7s - loss: 2790.1395 - val_loss: 2793.8795\n",
      "Epoch 4/50\n",
      "9413/9413 [==============================] - 7s - loss: 2771.9148 - val_loss: 2763.1318\n",
      "Epoch 5/50\n",
      "9413/9413 [==============================] - 7s - loss: 2759.8447 - val_loss: 2753.1044\n",
      "Epoch 6/50\n",
      "9413/9413 [==============================] - 6s - loss: 2750.7592 - val_loss: 2742.0624\n",
      "Epoch 7/50\n",
      "9413/9413 [==============================] - 6s - loss: 2743.6644 - val_loss: 2741.1365\n",
      "Epoch 8/50\n",
      "9413/9413 [==============================] - 6s - loss: 2737.9807 - val_loss: 2731.8176\n",
      "Epoch 9/50\n",
      "9413/9413 [==============================] - 6s - loss: 2733.4632 - val_loss: 2727.4273\n",
      "Epoch 10/50\n",
      "9413/9413 [==============================] - 6s - loss: 2729.4258 - val_loss: 2724.2850\n",
      "Epoch 11/50\n",
      "9413/9413 [==============================] - 7s - loss: 2725.6412 - val_loss: 2721.7304\n",
      "Epoch 12/50\n",
      "9413/9413 [==============================] - 6s - loss: 2722.1909 - val_loss: 2720.3786\n",
      "Epoch 13/50\n",
      "9413/9413 [==============================] - 7s - loss: 2718.8785 - val_loss: 2715.6571\n",
      "Epoch 14/50\n",
      "9413/9413 [==============================] - 7s - loss: 2716.5000 - val_loss: 2712.0778\n",
      "Epoch 15/50\n",
      "9413/9413 [==============================] - 8s - loss: 2713.3892 - val_loss: 2711.3957\n",
      "Epoch 16/50\n",
      "9413/9413 [==============================] - 7s - loss: 2710.8618 - val_loss: 2711.2496\n",
      "Epoch 17/50\n",
      "9413/9413 [==============================] - 6s - loss: 2709.2024 - val_loss: 2708.3162\n",
      "Epoch 18/50\n",
      "9413/9413 [==============================] - 7s - loss: 2707.0704 - val_loss: 2704.7409\n",
      "Epoch 19/50\n",
      "9413/9413 [==============================] - 7s - loss: 2705.1039 - val_loss: 2702.6097\n",
      "Epoch 20/50\n",
      "9413/9413 [==============================] - 6s - loss: 2703.1667 - val_loss: 2699.8023\n",
      "Epoch 21/50\n",
      "9413/9413 [==============================] - 6s - loss: 2701.5044 - val_loss: 2697.4295\n",
      "Epoch 22/50\n",
      "9413/9413 [==============================] - 7s - loss: 2700.2952 - val_loss: 2697.6964\n",
      "Epoch 23/50\n",
      "9413/9413 [==============================] - 8s - loss: 2698.9252 - val_loss: 2698.3696\n",
      "Epoch 24/50\n",
      "9413/9413 [==============================] - 7s - loss: 2697.3602 - val_loss: 2696.5889\n",
      "Epoch 25/50\n",
      "9413/9413 [==============================] - 6s - loss: 2695.7183 - val_loss: 2695.2949\n",
      "Epoch 26/50\n",
      "9413/9413 [==============================] - 6s - loss: 2694.4158 - val_loss: 2691.6921\n",
      "Epoch 27/50\n",
      "9413/9413 [==============================] - 6s - loss: 2693.3508 - val_loss: 2693.2737\n",
      "Epoch 28/50\n",
      "9413/9413 [==============================] - 6s - loss: 2692.4600 - val_loss: 2691.1975\n",
      "Epoch 29/50\n",
      "9413/9413 [==============================] - 7s - loss: 2691.2972 - val_loss: 2688.3362\n",
      "Epoch 30/50\n",
      "9413/9413 [==============================] - 6s - loss: 2690.1311 - val_loss: 2690.4486\n",
      "Epoch 31/50\n",
      "9413/9413 [==============================] - 6s - loss: 2688.9967 - val_loss: 2689.6179\n",
      "Epoch 32/50\n",
      "9413/9413 [==============================] - 6s - loss: 2688.3230 - val_loss: 2685.2254\n",
      "Epoch 33/50\n",
      "9413/9413 [==============================] - 6s - loss: 2687.1566 - val_loss: 2686.6961\n",
      "Epoch 34/50\n",
      "9413/9413 [==============================] - 6s - loss: 2686.6768 - val_loss: 2683.7120\n",
      "Epoch 35/50\n",
      "9413/9413 [==============================] - 6s - loss: 2685.7472 - val_loss: 2684.2944\n",
      "Epoch 36/50\n",
      "9413/9413 [==============================] - 6s - loss: 2684.6993 - val_loss: 2684.3353\n",
      "Epoch 37/50\n",
      "9413/9413 [==============================] - 6s - loss: 2684.3235 - val_loss: 2682.3505\n",
      "Epoch 38/50\n",
      "9413/9413 [==============================] - 6s - loss: 2683.7409 - val_loss: 2679.8363\n",
      "Epoch 39/50\n",
      "9413/9413 [==============================] - 6s - loss: 2683.0527 - val_loss: 2685.6051\n",
      "Epoch 40/50\n",
      "9413/9413 [==============================] - 6s - loss: 2682.5456 - val_loss: 2680.1078\n",
      "Epoch 41/50\n",
      "9413/9413 [==============================] - 6s - loss: 2681.7030 - val_loss: 2679.0659\n",
      "Epoch 42/50\n",
      "9413/9413 [==============================] - 6s - loss: 2681.0836 - val_loss: 2678.5968\n",
      "Epoch 43/50\n",
      "9413/9413 [==============================] - 6s - loss: 2680.2905 - val_loss: 2678.1316\n",
      "Epoch 44/50\n",
      "9413/9413 [==============================] - 6s - loss: 2680.1308 - val_loss: 2678.2818\n",
      "Epoch 45/50\n",
      "9413/9413 [==============================] - 7s - loss: 2679.7628 - val_loss: 2677.3557\n",
      "Epoch 46/50\n",
      "9413/9413 [==============================] - 6s - loss: 2678.4295 - val_loss: 2675.8370\n",
      "Epoch 47/50\n",
      "9413/9413 [==============================] - 6s - loss: 2678.4181 - val_loss: 2676.1826\n",
      "Epoch 48/50\n",
      "9413/9413 [==============================] - 6s - loss: 2677.8144 - val_loss: 2676.2227\n",
      "Epoch 49/50\n",
      "9413/9413 [==============================] - 6s - loss: 2677.2654 - val_loss: 2675.0941\n",
      "Epoch 50/50\n",
      "9413/9413 [==============================] - 6s - loss: 2676.8760 - val_loss: 2674.4545\n",
      "CPU times: user 13min 30s, sys: 1min 55s, total: 15min 26s\n",
      "Wall time: 5min 38s\n"
     ]
    }
   ],
   "source": [
    "%%time\n",
    "hist = vae.fit(np.array(rnaseq_train_df),\n",
    "               shuffle=True,\n",
    "               epochs=epochs,\n",
    "               batch_size=batch_size,\n",
    "               validation_data=(np.array(rnaseq_test_df), np.array(rnaseq_test_df)),\n",
    "               callbacks=[WarmUpCallback(beta, kappa)])"
   ]
  },
  {
   "cell_type": "code",
   "execution_count": 15,
   "metadata": {
    "collapsed": false,
    "deletable": true,
    "editable": true
   },
   "outputs": [
    {
     "data": {
      "image/png": "[encoded data removed]",
      "text/plain": [
       "<matplotlib.figure.Figure at 0x7fc0f0de12e8>"
      ]
     },
     "metadata": {},
     "output_type": "display_data"
    }
   ],
   "source": [
    "# Visualize training performance\n",
    "history_df = pd.DataFrame(hist.history)\n",
    "hist_plot_file = os.path.join('figures', 'onehidden_vae_training.pdf')\n",
    "ax = history_df.plot()\n",
    "ax.set_xlabel('Epochs')\n",
    "ax.set_ylabel('VAE Loss')\n",
    "fig = ax.get_figure()\n",
    "fig.savefig(hist_plot_file)"
   ]
  },
  {
   "cell_type": "markdown",
   "metadata": {},
   "source": [
    "## Compile and output trained models\n",
    "\n",
    "We are interested in:\n",
    "\n",
    "1. The model to encode/compress the input gene expression data\n",
    "  * Can be possibly used to compress other tumors\n",
    "2. The model to decode/decompress the latent space back into gene expression space\n",
    "  * This is our generative model\n",
    "3. The latent space compression of all pan cancer TCGA samples\n",
    "  * Non-linear reduced dimension representation of tumors can be used as features for various tasks\n",
    "    * Supervised learning tasks predicting specific gene inactivation events\n",
    "    * Interpolating across this space to observe how gene expression changes between two cancer states\n",
    "4. The weights used to compress each latent node\n",
    "  * Potentially indicate learned biology differentially activating tumors"
   ]
  },
  {
   "cell_type": "markdown",
   "metadata": {},
   "source": [
    "### Encoder model"
   ]
  },
  {
   "cell_type": "code",
   "execution_count": 16,
   "metadata": {
    "collapsed": false,
    "deletable": true,
    "editable": true
   },
   "outputs": [],
   "source": [
    "# Model to compress input\n",
    "encoder = Model(rnaseq_input, z_mean_encoded)"
   ]
  },
  {
   "cell_type": "code",
   "execution_count": 17,
   "metadata": {
    "collapsed": true,
    "deletable": true,
    "editable": true
   },
   "outputs": [],
   "source": [
    "# Encode rnaseq into the hidden/latent representation - and save output\n",
    "encoded_rnaseq_df = encoder.predict_on_batch(rnaseq_df)\n",
    "encoded_rnaseq_df = pd.DataFrame(encoded_rnaseq_df, index=rnaseq_df.index)\n",
    "\n",
    "encoded_rnaseq_df.columns.name = 'sample_id'\n",
    "encoded_rnaseq_df.columns = encoded_rnaseq_df.columns + 1\n",
    "encoded_file = os.path.join('data', 'encoded_rnaseq_onehidden_warmup_batchnorm.tsv')\n",
    "encoded_rnaseq_df.to_csv(encoded_file, sep='\\t')"
   ]
  },
  {
   "cell_type": "code",
   "execution_count": 18,
   "metadata": {
    "collapsed": false
   },
   "outputs": [
    {
     "name": "stdout",
     "output_type": "stream",
     "text": [
      "sample_id\n",
      "57     28044.251953\n",
      "6      27151.218750\n",
      "67     26747.197266\n",
      "47     25953.667969\n",
      "9      24856.529297\n",
      "82     24465.945312\n",
      "12     24331.056641\n",
      "100    24243.681641\n",
      "29     23686.589844\n",
      "3      23502.363281\n",
      "dtype: float32\n"
     ]
    },
    {
     "data": {
      "text/plain": [
       "sample_id\n",
       "54    14793.680664\n",
       "2     14662.827148\n",
       "98    14461.007812\n",
       "74    14289.054688\n",
       "78    14282.606445\n",
       "20    14095.823242\n",
       "69    13658.000000\n",
       "35    13456.125000\n",
       "58    13368.562500\n",
       "14    13052.229492\n",
       "dtype: float32"
      ]
     },
     "execution_count": 18,
     "metadata": {},
     "output_type": "execute_result"
    }
   ],
   "source": [
    "# What are the most and least activated nodes\n",
    "top_active_nodes = encoded_rnaseq_df.sum(axis=0).sort_values(ascending=False)\n",
    "print(top_active_nodes.head(10))\n",
    "top_active_nodes.tail(10)"
   ]
  },
  {
   "cell_type": "code",
   "execution_count": 19,
   "metadata": {
    "collapsed": false
   },
   "outputs": [
    {
     "data": {
      "text/plain": [
       "<matplotlib.collections.PathCollection at 0x7fc0f2331be0>"
      ]
     },
     "execution_count": 19,
     "metadata": {},
     "output_type": "execute_result"
    },
    {
     "data": {
      "image/png": "[encoded data removed]",
      "text/plain": [
       "<matplotlib.figure.Figure at 0x7fc0f0dd3e80>"
      ]
     },
     "metadata": {},
     "output_type": "display_data"
    }
   ],
   "source": [
    "# Example distribution of latent layer\n",
    "plt.figure(figsize=(6, 6))\n",
    "plt.scatter(encoded_rnaseq_df.iloc[:, 1], encoded_rnaseq_df.iloc[:, 2])"
   ]
  },
  {
   "cell_type": "markdown",
   "metadata": {},
   "source": [
    "### Decoder (generative) model"
   ]
  },
  {
   "cell_type": "code",
   "execution_count": 20,
   "metadata": {
    "collapsed": false,
    "deletable": true,
    "editable": true
   },
   "outputs": [],
   "source": [
    "# build a generator that can sample from the learned distribution\n",
    "decoder_input = Input(shape=(latent_dim, ))  # can generate from any sampled z vector\n",
    "_x_decoded_mean = decoder_to_reconstruct(decoder_input)\n",
    "decoder = Model(decoder_input, _x_decoded_mean)"
   ]
  },
  {
   "cell_type": "code",
   "execution_count": 21,
   "metadata": {
    "collapsed": false
   },
   "outputs": [
    {
     "data": {
      "text/html": [
       "<div>\n",
       "<style>\n",
       "    .dataframe thead tr:only-child th {\n",
       "        text-align: right;\n",
       "    }\n",
       "\n",
       "    .dataframe thead th {\n",
       "        text-align: left;\n",
       "    }\n",
       "\n",
       "    .dataframe tbody tr th {\n",
       "        vertical-align: top;\n",
       "    }\n",
       "</style>\n",
       "<table border=\"1\" class=\"dataframe\">\n",
       "  <thead>\n",
       "    <tr style=\"text-align: right;\">\n",
       "      <th></th>\n",
       "      <th>RPS4Y1</th>\n",
       "      <th>XIST</th>\n",
       "      <th>KRT5</th>\n",
       "      <th>AGR2</th>\n",
       "      <th>CEACAM5</th>\n",
       "      <th>KRT6A</th>\n",
       "      <th>KRT14</th>\n",
       "      <th>CEACAM6</th>\n",
       "      <th>DDX3Y</th>\n",
       "      <th>KDM5D</th>\n",
       "      <th>...</th>\n",
       "      <th>FAM129A</th>\n",
       "      <th>C8orf48</th>\n",
       "      <th>CDK5R1</th>\n",
       "      <th>FAM81A</th>\n",
       "      <th>C13orf18</th>\n",
       "      <th>GDPD3</th>\n",
       "      <th>SMAGP</th>\n",
       "      <th>C2orf85</th>\n",
       "      <th>POU5F1B</th>\n",
       "      <th>CHST2</th>\n",
       "    </tr>\n",
       "  </thead>\n",
       "  <tbody>\n",
       "    <tr>\n",
       "      <th>TCGA-02-0047-01</th>\n",
       "      <td>0.693823</td>\n",
       "      <td>0.227076</td>\n",
       "      <td>0.219339</td>\n",
       "      <td>0.036978</td>\n",
       "      <td>0.027450</td>\n",
       "      <td>0.058408</td>\n",
       "      <td>0.063593</td>\n",
       "      <td>0.044701</td>\n",
       "      <td>0.704637</td>\n",
       "      <td>0.675651</td>\n",
       "      <td>...</td>\n",
       "      <td>0.430277</td>\n",
       "      <td>0.498086</td>\n",
       "      <td>0.772140</td>\n",
       "      <td>0.640101</td>\n",
       "      <td>0.609845</td>\n",
       "      <td>0.345947</td>\n",
       "      <td>0.405433</td>\n",
       "      <td>0.582319</td>\n",
       "      <td>0.229536</td>\n",
       "      <td>0.670714</td>\n",
       "    </tr>\n",
       "    <tr>\n",
       "      <th>TCGA-02-0055-01</th>\n",
       "      <td>0.173616</td>\n",
       "      <td>0.571331</td>\n",
       "      <td>0.216255</td>\n",
       "      <td>0.102939</td>\n",
       "      <td>0.042887</td>\n",
       "      <td>0.125957</td>\n",
       "      <td>0.142873</td>\n",
       "      <td>0.079295</td>\n",
       "      <td>0.142044</td>\n",
       "      <td>0.105926</td>\n",
       "      <td>...</td>\n",
       "      <td>0.564351</td>\n",
       "      <td>0.502365</td>\n",
       "      <td>0.606269</td>\n",
       "      <td>0.581407</td>\n",
       "      <td>0.658333</td>\n",
       "      <td>0.383632</td>\n",
       "      <td>0.565979</td>\n",
       "      <td>0.206962</td>\n",
       "      <td>0.189260</td>\n",
       "      <td>0.645569</td>\n",
       "    </tr>\n",
       "    <tr>\n",
       "      <th>TCGA-02-2483-01</th>\n",
       "      <td>0.796245</td>\n",
       "      <td>0.135906</td>\n",
       "      <td>0.137753</td>\n",
       "      <td>0.038701</td>\n",
       "      <td>0.028178</td>\n",
       "      <td>0.039144</td>\n",
       "      <td>0.047183</td>\n",
       "      <td>0.041396</td>\n",
       "      <td>0.764559</td>\n",
       "      <td>0.733439</td>\n",
       "      <td>...</td>\n",
       "      <td>0.380729</td>\n",
       "      <td>0.448776</td>\n",
       "      <td>0.748259</td>\n",
       "      <td>0.521447</td>\n",
       "      <td>0.521549</td>\n",
       "      <td>0.364190</td>\n",
       "      <td>0.403356</td>\n",
       "      <td>0.587873</td>\n",
       "      <td>0.196906</td>\n",
       "      <td>0.610362</td>\n",
       "    </tr>\n",
       "  </tbody>\n",
       "</table>\n",
       "<p>3 rows × 5000 columns</p>\n",
       "</div>"
      ],
      "text/plain": [
       "                   RPS4Y1      XIST      KRT5      AGR2   CEACAM5     KRT6A  \\\n",
       "TCGA-02-0047-01  0.693823  0.227076  0.219339  0.036978  0.027450  0.058408   \n",
       "TCGA-02-0055-01  0.173616  0.571331  0.216255  0.102939  0.042887  0.125957   \n",
       "TCGA-02-2483-01  0.796245  0.135906  0.137753  0.038701  0.028178  0.039144   \n",
       "\n",
       "                    KRT14   CEACAM6     DDX3Y     KDM5D    ...      FAM129A  \\\n",
       "TCGA-02-0047-01  0.063593  0.044701  0.704637  0.675651    ...     0.430277   \n",
       "TCGA-02-0055-01  0.142873  0.079295  0.142044  0.105926    ...     0.564351   \n",
       "TCGA-02-2483-01  0.047183  0.041396  0.764559  0.733439    ...     0.380729   \n",
       "\n",
       "                  C8orf48    CDK5R1    FAM81A  C13orf18     GDPD3     SMAGP  \\\n",
       "TCGA-02-0047-01  0.498086  0.772140  0.640101  0.609845  0.345947  0.405433   \n",
       "TCGA-02-0055-01  0.502365  0.606269  0.581407  0.658333  0.383632  0.565979   \n",
       "TCGA-02-2483-01  0.448776  0.748259  0.521447  0.521549  0.364190  0.403356   \n",
       "\n",
       "                  C2orf85   POU5F1B     CHST2  \n",
       "TCGA-02-0047-01  0.582319  0.229536  0.670714  \n",
       "TCGA-02-0055-01  0.206962  0.189260  0.645569  \n",
       "TCGA-02-2483-01  0.587873  0.196906  0.610362  \n",
       "\n",
       "[3 rows x 5000 columns]"
      ]
     },
     "execution_count": 21,
     "metadata": {},
     "output_type": "execute_result"
    }
   ],
   "source": [
    "# How well does the model reconstruct the input RNAseq data\n",
    "input_rnaseq_reconstruct = decoder.predict(np.array(encoded_rnaseq_df))\n",
    "input_rnaseq_reconstruct = pd.DataFrame(input_rnaseq_reconstruct, index=rnaseq_df.index,\n",
    "                                        columns=rnaseq_df.columns)\n",
    "input_rnaseq_reconstruct.head(3)"
   ]
  },
  {
   "cell_type": "code",
   "execution_count": 22,
   "metadata": {
    "collapsed": false
   },
   "outputs": [
    {
     "data": {
      "text/html": [
       "<div>\n",
       "<style>\n",
       "    .dataframe thead tr:only-child th {\n",
       "        text-align: right;\n",
       "    }\n",
       "\n",
       "    .dataframe thead th {\n",
       "        text-align: left;\n",
       "    }\n",
       "\n",
       "    .dataframe tbody tr th {\n",
       "        vertical-align: top;\n",
       "    }\n",
       "</style>\n",
       "<table border=\"1\" class=\"dataframe\">\n",
       "  <thead>\n",
       "    <tr style=\"text-align: right;\">\n",
       "      <th></th>\n",
       "      <th>RPS4Y1</th>\n",
       "      <th>XIST</th>\n",
       "      <th>KRT5</th>\n",
       "      <th>AGR2</th>\n",
       "      <th>CEACAM5</th>\n",
       "      <th>KRT6A</th>\n",
       "      <th>KRT14</th>\n",
       "      <th>CEACAM6</th>\n",
       "      <th>DDX3Y</th>\n",
       "      <th>KDM5D</th>\n",
       "      <th>...</th>\n",
       "      <th>FAM129A</th>\n",
       "      <th>C8orf48</th>\n",
       "      <th>CDK5R1</th>\n",
       "      <th>FAM81A</th>\n",
       "      <th>C13orf18</th>\n",
       "      <th>GDPD3</th>\n",
       "      <th>SMAGP</th>\n",
       "      <th>C2orf85</th>\n",
       "      <th>POU5F1B</th>\n",
       "      <th>CHST2</th>\n",
       "    </tr>\n",
       "  </thead>\n",
       "  <tbody>\n",
       "    <tr>\n",
       "      <th>TCGA-02-0047-01</th>\n",
       "      <td>0.678296</td>\n",
       "      <td>0.289910</td>\n",
       "      <td>0.034230</td>\n",
       "      <td>0.0</td>\n",
       "      <td>0.0</td>\n",
       "      <td>0.084731</td>\n",
       "      <td>0.031863</td>\n",
       "      <td>0.037709</td>\n",
       "      <td>0.746797</td>\n",
       "      <td>0.687833</td>\n",
       "      <td>...</td>\n",
       "      <td>0.440610</td>\n",
       "      <td>0.428782</td>\n",
       "      <td>0.732819</td>\n",
       "      <td>0.634340</td>\n",
       "      <td>0.580662</td>\n",
       "      <td>0.294313</td>\n",
       "      <td>0.458134</td>\n",
       "      <td>0.478219</td>\n",
       "      <td>0.168263</td>\n",
       "      <td>0.638497</td>\n",
       "    </tr>\n",
       "    <tr>\n",
       "      <th>TCGA-02-0055-01</th>\n",
       "      <td>0.200633</td>\n",
       "      <td>0.654917</td>\n",
       "      <td>0.181993</td>\n",
       "      <td>0.0</td>\n",
       "      <td>0.0</td>\n",
       "      <td>0.100606</td>\n",
       "      <td>0.050011</td>\n",
       "      <td>0.092586</td>\n",
       "      <td>0.103725</td>\n",
       "      <td>0.140642</td>\n",
       "      <td>...</td>\n",
       "      <td>0.620658</td>\n",
       "      <td>0.363207</td>\n",
       "      <td>0.592269</td>\n",
       "      <td>0.602755</td>\n",
       "      <td>0.610192</td>\n",
       "      <td>0.374569</td>\n",
       "      <td>0.722420</td>\n",
       "      <td>0.271356</td>\n",
       "      <td>0.160465</td>\n",
       "      <td>0.602560</td>\n",
       "    </tr>\n",
       "    <tr>\n",
       "      <th>TCGA-02-2483-01</th>\n",
       "      <td>0.785980</td>\n",
       "      <td>0.140842</td>\n",
       "      <td>0.081082</td>\n",
       "      <td>0.0</td>\n",
       "      <td>0.0</td>\n",
       "      <td>0.000000</td>\n",
       "      <td>0.000000</td>\n",
       "      <td>0.000000</td>\n",
       "      <td>0.730648</td>\n",
       "      <td>0.657189</td>\n",
       "      <td>...</td>\n",
       "      <td>0.437658</td>\n",
       "      <td>0.471489</td>\n",
       "      <td>0.868774</td>\n",
       "      <td>0.471141</td>\n",
       "      <td>0.487212</td>\n",
       "      <td>0.385521</td>\n",
       "      <td>0.466642</td>\n",
       "      <td>0.784059</td>\n",
       "      <td>0.160797</td>\n",
       "      <td>0.557074</td>\n",
       "    </tr>\n",
       "  </tbody>\n",
       "</table>\n",
       "<p>3 rows × 5000 columns</p>\n",
       "</div>"
      ],
      "text/plain": [
       "                   RPS4Y1      XIST      KRT5  AGR2  CEACAM5     KRT6A  \\\n",
       "TCGA-02-0047-01  0.678296  0.289910  0.034230   0.0      0.0  0.084731   \n",
       "TCGA-02-0055-01  0.200633  0.654917  0.181993   0.0      0.0  0.100606   \n",
       "TCGA-02-2483-01  0.785980  0.140842  0.081082   0.0      0.0  0.000000   \n",
       "\n",
       "                    KRT14   CEACAM6     DDX3Y     KDM5D    ...      FAM129A  \\\n",
       "TCGA-02-0047-01  0.031863  0.037709  0.746797  0.687833    ...     0.440610   \n",
       "TCGA-02-0055-01  0.050011  0.092586  0.103725  0.140642    ...     0.620658   \n",
       "TCGA-02-2483-01  0.000000  0.000000  0.730648  0.657189    ...     0.437658   \n",
       "\n",
       "                  C8orf48    CDK5R1    FAM81A  C13orf18     GDPD3     SMAGP  \\\n",
       "TCGA-02-0047-01  0.428782  0.732819  0.634340  0.580662  0.294313  0.458134   \n",
       "TCGA-02-0055-01  0.363207  0.592269  0.602755  0.610192  0.374569  0.722420   \n",
       "TCGA-02-2483-01  0.471489  0.868774  0.471141  0.487212  0.385521  0.466642   \n",
       "\n",
       "                  C2orf85   POU5F1B     CHST2  \n",
       "TCGA-02-0047-01  0.478219  0.168263  0.638497  \n",
       "TCGA-02-0055-01  0.271356  0.160465  0.602560  \n",
       "TCGA-02-2483-01  0.784059  0.160797  0.557074  \n",
       "\n",
       "[3 rows x 5000 columns]"
      ]
     },
     "execution_count": 22,
     "metadata": {},
     "output_type": "execute_result"
    }
   ],
   "source": [
    "rnaseq_df.head(3)"
   ]
  },
  {
   "cell_type": "markdown",
   "metadata": {},
   "source": [
    "## Save the encoder/decoder models for future investigation"
   ]
  },
  {
   "cell_type": "code",
   "execution_count": 23,
   "metadata": {
    "collapsed": false,
    "deletable": true,
    "editable": true
   },
   "outputs": [],
   "source": [
    "encoder_model_file = os.path.join('models', 'encoder_onehidden_vae.hdf5')\n",
    "decoder_model_file = os.path.join('models', 'decoder_onehidden_vae.hdf5')\n",
    "\n",
    "encoder.save(encoder_model_file)\n",
    "decoder.save(decoder_model_file)"
   ]
  }
 ],
 "metadata": {
  "kernelspec": {
   "display_name": "Python [conda root]",
   "language": "python",
   "name": "conda-root-py"
  },
  "language_info": {
   "codemirror_mode": {
    "name": "ipython",
    "version": 3
   },
   "file_extension": ".py",
   "mimetype": "text/x-python",
   "name": "python",
   "nbconvert_exporter": "python",
   "pygments_lexer": "ipython3",
   "version": "3.5.2"
  }
 },
 "nbformat": 4,
 "nbformat_minor": 1
}
